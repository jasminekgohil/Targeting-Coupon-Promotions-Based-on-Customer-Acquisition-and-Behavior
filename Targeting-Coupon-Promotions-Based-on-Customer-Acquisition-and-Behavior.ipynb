{
  "nbformat": 4,
  "nbformat_minor": 0,
  "metadata": {
    "colab": {
      "provenance": []
    },
    "kernelspec": {
      "name": "python3",
      "display_name": "Python 3"
    },
    "language_info": {
      "name": "python"
    }
  },
  "cells": [
    {
      "cell_type": "markdown",
      "source": [
        "#Digital Marketing Analytics Assignment 2 - Segmentation and Targeting\n",
        "\n",
        "Jasmine Gohil & Khushi Jasrapuria"
      ],
      "metadata": {
        "id": "5gxjgGJOwuuC"
      }
    },
    {
      "cell_type": "code",
      "source": [
        "!pip install stargazer"
      ],
      "metadata": {
        "colab": {
          "base_uri": "https://localhost:8080/"
        },
        "id": "Y8U9DgvL-iIX",
        "outputId": "0797e9b5-4a67-480a-8a9e-36d480310c96"
      },
      "execution_count": null,
      "outputs": [
        {
          "output_type": "stream",
          "name": "stdout",
          "text": [
            "Collecting stargazer\n",
            "  Downloading stargazer-0.0.7-py3-none-any.whl (15 kB)\n",
            "Installing collected packages: stargazer\n",
            "Successfully installed stargazer-0.0.7\n"
          ]
        }
      ]
    },
    {
      "cell_type": "code",
      "execution_count": null,
      "metadata": {
        "id": "WGXdnpgrfP90"
      },
      "outputs": [],
      "source": [
        "import pandas as pd\n",
        "import numpy as np\n",
        "import seaborn as sns\n",
        "import statsmodels.api as sm\n",
        "import statsmodels.formula.api as smf\n",
        "from stargazer.stargazer import Stargazer"
      ]
    },
    {
      "cell_type": "code",
      "source": [
        "df = pd.read_csv(\"/content/PS2-2024.csv\")\n",
        "df"
      ],
      "metadata": {
        "colab": {
          "base_uri": "https://localhost:8080/",
          "height": 423
        },
        "id": "_2kufpv-fVBl",
        "outputId": "15f204b6-4070-4255-e841-418eac56a458"
      },
      "execution_count": null,
      "outputs": [
        {
          "output_type": "execute_result",
          "data": {
            "text/plain": [
              "           id  trans_after  revenue_after  test_coupon  non_male income  \\\n",
              "0        AB_1            0           0.00            0         0   high   \n",
              "1        AB_2            0           0.00            1         0   high   \n",
              "2        AB_3            0           0.00            1         0   high   \n",
              "3        AB_4            0           0.00            0         1    low   \n",
              "4        AB_5            0           0.00            1         1   high   \n",
              "...       ...          ...            ...          ...       ...    ...   \n",
              "4995  AB_4996            1          51.49            0         1   high   \n",
              "4996  AB_4997            0           0.00            1         0   high   \n",
              "4997  AB_4998            0           0.00            1         1   high   \n",
              "4998  AB_4999            0           0.00            1         0    low   \n",
              "4999  AB_5000            0           0.00            0         1    low   \n",
              "\n",
              "      channel_acq  num_past_purch  spent_last_purchase  \n",
              "0               2               6                62.99  \n",
              "1               1               2                53.99  \n",
              "2               2               3                88.98  \n",
              "3               2               1                68.99  \n",
              "4               3               3                66.49  \n",
              "...           ...             ...                  ...  \n",
              "4995            2               3                51.49  \n",
              "4996            1               0                 0.00  \n",
              "4997            1               1                60.49  \n",
              "4998            1               0                 0.00  \n",
              "4999            1               5                78.99  \n",
              "\n",
              "[5000 rows x 9 columns]"
            ],
            "text/html": [
              "\n",
              "  <div id=\"df-86c47909-981c-41bf-b173-b441712460f8\" class=\"colab-df-container\">\n",
              "    <div>\n",
              "<style scoped>\n",
              "    .dataframe tbody tr th:only-of-type {\n",
              "        vertical-align: middle;\n",
              "    }\n",
              "\n",
              "    .dataframe tbody tr th {\n",
              "        vertical-align: top;\n",
              "    }\n",
              "\n",
              "    .dataframe thead th {\n",
              "        text-align: right;\n",
              "    }\n",
              "</style>\n",
              "<table border=\"1\" class=\"dataframe\">\n",
              "  <thead>\n",
              "    <tr style=\"text-align: right;\">\n",
              "      <th></th>\n",
              "      <th>id</th>\n",
              "      <th>trans_after</th>\n",
              "      <th>revenue_after</th>\n",
              "      <th>test_coupon</th>\n",
              "      <th>non_male</th>\n",
              "      <th>income</th>\n",
              "      <th>channel_acq</th>\n",
              "      <th>num_past_purch</th>\n",
              "      <th>spent_last_purchase</th>\n",
              "    </tr>\n",
              "  </thead>\n",
              "  <tbody>\n",
              "    <tr>\n",
              "      <th>0</th>\n",
              "      <td>AB_1</td>\n",
              "      <td>0</td>\n",
              "      <td>0.00</td>\n",
              "      <td>0</td>\n",
              "      <td>0</td>\n",
              "      <td>high</td>\n",
              "      <td>2</td>\n",
              "      <td>6</td>\n",
              "      <td>62.99</td>\n",
              "    </tr>\n",
              "    <tr>\n",
              "      <th>1</th>\n",
              "      <td>AB_2</td>\n",
              "      <td>0</td>\n",
              "      <td>0.00</td>\n",
              "      <td>1</td>\n",
              "      <td>0</td>\n",
              "      <td>high</td>\n",
              "      <td>1</td>\n",
              "      <td>2</td>\n",
              "      <td>53.99</td>\n",
              "    </tr>\n",
              "    <tr>\n",
              "      <th>2</th>\n",
              "      <td>AB_3</td>\n",
              "      <td>0</td>\n",
              "      <td>0.00</td>\n",
              "      <td>1</td>\n",
              "      <td>0</td>\n",
              "      <td>high</td>\n",
              "      <td>2</td>\n",
              "      <td>3</td>\n",
              "      <td>88.98</td>\n",
              "    </tr>\n",
              "    <tr>\n",
              "      <th>3</th>\n",
              "      <td>AB_4</td>\n",
              "      <td>0</td>\n",
              "      <td>0.00</td>\n",
              "      <td>0</td>\n",
              "      <td>1</td>\n",
              "      <td>low</td>\n",
              "      <td>2</td>\n",
              "      <td>1</td>\n",
              "      <td>68.99</td>\n",
              "    </tr>\n",
              "    <tr>\n",
              "      <th>4</th>\n",
              "      <td>AB_5</td>\n",
              "      <td>0</td>\n",
              "      <td>0.00</td>\n",
              "      <td>1</td>\n",
              "      <td>1</td>\n",
              "      <td>high</td>\n",
              "      <td>3</td>\n",
              "      <td>3</td>\n",
              "      <td>66.49</td>\n",
              "    </tr>\n",
              "    <tr>\n",
              "      <th>...</th>\n",
              "      <td>...</td>\n",
              "      <td>...</td>\n",
              "      <td>...</td>\n",
              "      <td>...</td>\n",
              "      <td>...</td>\n",
              "      <td>...</td>\n",
              "      <td>...</td>\n",
              "      <td>...</td>\n",
              "      <td>...</td>\n",
              "    </tr>\n",
              "    <tr>\n",
              "      <th>4995</th>\n",
              "      <td>AB_4996</td>\n",
              "      <td>1</td>\n",
              "      <td>51.49</td>\n",
              "      <td>0</td>\n",
              "      <td>1</td>\n",
              "      <td>high</td>\n",
              "      <td>2</td>\n",
              "      <td>3</td>\n",
              "      <td>51.49</td>\n",
              "    </tr>\n",
              "    <tr>\n",
              "      <th>4996</th>\n",
              "      <td>AB_4997</td>\n",
              "      <td>0</td>\n",
              "      <td>0.00</td>\n",
              "      <td>1</td>\n",
              "      <td>0</td>\n",
              "      <td>high</td>\n",
              "      <td>1</td>\n",
              "      <td>0</td>\n",
              "      <td>0.00</td>\n",
              "    </tr>\n",
              "    <tr>\n",
              "      <th>4997</th>\n",
              "      <td>AB_4998</td>\n",
              "      <td>0</td>\n",
              "      <td>0.00</td>\n",
              "      <td>1</td>\n",
              "      <td>1</td>\n",
              "      <td>high</td>\n",
              "      <td>1</td>\n",
              "      <td>1</td>\n",
              "      <td>60.49</td>\n",
              "    </tr>\n",
              "    <tr>\n",
              "      <th>4998</th>\n",
              "      <td>AB_4999</td>\n",
              "      <td>0</td>\n",
              "      <td>0.00</td>\n",
              "      <td>1</td>\n",
              "      <td>0</td>\n",
              "      <td>low</td>\n",
              "      <td>1</td>\n",
              "      <td>0</td>\n",
              "      <td>0.00</td>\n",
              "    </tr>\n",
              "    <tr>\n",
              "      <th>4999</th>\n",
              "      <td>AB_5000</td>\n",
              "      <td>0</td>\n",
              "      <td>0.00</td>\n",
              "      <td>0</td>\n",
              "      <td>1</td>\n",
              "      <td>low</td>\n",
              "      <td>1</td>\n",
              "      <td>5</td>\n",
              "      <td>78.99</td>\n",
              "    </tr>\n",
              "  </tbody>\n",
              "</table>\n",
              "<p>5000 rows × 9 columns</p>\n",
              "</div>\n",
              "    <div class=\"colab-df-buttons\">\n",
              "\n",
              "  <div class=\"colab-df-container\">\n",
              "    <button class=\"colab-df-convert\" onclick=\"convertToInteractive('df-86c47909-981c-41bf-b173-b441712460f8')\"\n",
              "            title=\"Convert this dataframe to an interactive table.\"\n",
              "            style=\"display:none;\">\n",
              "\n",
              "  <svg xmlns=\"http://www.w3.org/2000/svg\" height=\"24px\" viewBox=\"0 -960 960 960\">\n",
              "    <path d=\"M120-120v-720h720v720H120Zm60-500h600v-160H180v160Zm220 220h160v-160H400v160Zm0 220h160v-160H400v160ZM180-400h160v-160H180v160Zm440 0h160v-160H620v160ZM180-180h160v-160H180v160Zm440 0h160v-160H620v160Z\"/>\n",
              "  </svg>\n",
              "    </button>\n",
              "\n",
              "  <style>\n",
              "    .colab-df-container {\n",
              "      display:flex;\n",
              "      gap: 12px;\n",
              "    }\n",
              "\n",
              "    .colab-df-convert {\n",
              "      background-color: #E8F0FE;\n",
              "      border: none;\n",
              "      border-radius: 50%;\n",
              "      cursor: pointer;\n",
              "      display: none;\n",
              "      fill: #1967D2;\n",
              "      height: 32px;\n",
              "      padding: 0 0 0 0;\n",
              "      width: 32px;\n",
              "    }\n",
              "\n",
              "    .colab-df-convert:hover {\n",
              "      background-color: #E2EBFA;\n",
              "      box-shadow: 0px 1px 2px rgba(60, 64, 67, 0.3), 0px 1px 3px 1px rgba(60, 64, 67, 0.15);\n",
              "      fill: #174EA6;\n",
              "    }\n",
              "\n",
              "    .colab-df-buttons div {\n",
              "      margin-bottom: 4px;\n",
              "    }\n",
              "\n",
              "    [theme=dark] .colab-df-convert {\n",
              "      background-color: #3B4455;\n",
              "      fill: #D2E3FC;\n",
              "    }\n",
              "\n",
              "    [theme=dark] .colab-df-convert:hover {\n",
              "      background-color: #434B5C;\n",
              "      box-shadow: 0px 1px 3px 1px rgba(0, 0, 0, 0.15);\n",
              "      filter: drop-shadow(0px 1px 2px rgba(0, 0, 0, 0.3));\n",
              "      fill: #FFFFFF;\n",
              "    }\n",
              "  </style>\n",
              "\n",
              "    <script>\n",
              "      const buttonEl =\n",
              "        document.querySelector('#df-86c47909-981c-41bf-b173-b441712460f8 button.colab-df-convert');\n",
              "      buttonEl.style.display =\n",
              "        google.colab.kernel.accessAllowed ? 'block' : 'none';\n",
              "\n",
              "      async function convertToInteractive(key) {\n",
              "        const element = document.querySelector('#df-86c47909-981c-41bf-b173-b441712460f8');\n",
              "        const dataTable =\n",
              "          await google.colab.kernel.invokeFunction('convertToInteractive',\n",
              "                                                    [key], {});\n",
              "        if (!dataTable) return;\n",
              "\n",
              "        const docLinkHtml = 'Like what you see? Visit the ' +\n",
              "          '<a target=\"_blank\" href=https://colab.research.google.com/notebooks/data_table.ipynb>data table notebook</a>'\n",
              "          + ' to learn more about interactive tables.';\n",
              "        element.innerHTML = '';\n",
              "        dataTable['output_type'] = 'display_data';\n",
              "        await google.colab.output.renderOutput(dataTable, element);\n",
              "        const docLink = document.createElement('div');\n",
              "        docLink.innerHTML = docLinkHtml;\n",
              "        element.appendChild(docLink);\n",
              "      }\n",
              "    </script>\n",
              "  </div>\n",
              "\n",
              "\n",
              "<div id=\"df-75b21aaf-a024-4c0b-964e-438f55f1bac8\">\n",
              "  <button class=\"colab-df-quickchart\" onclick=\"quickchart('df-75b21aaf-a024-4c0b-964e-438f55f1bac8')\"\n",
              "            title=\"Suggest charts\"\n",
              "            style=\"display:none;\">\n",
              "\n",
              "<svg xmlns=\"http://www.w3.org/2000/svg\" height=\"24px\"viewBox=\"0 0 24 24\"\n",
              "     width=\"24px\">\n",
              "    <g>\n",
              "        <path d=\"M19 3H5c-1.1 0-2 .9-2 2v14c0 1.1.9 2 2 2h14c1.1 0 2-.9 2-2V5c0-1.1-.9-2-2-2zM9 17H7v-7h2v7zm4 0h-2V7h2v10zm4 0h-2v-4h2v4z\"/>\n",
              "    </g>\n",
              "</svg>\n",
              "  </button>\n",
              "\n",
              "<style>\n",
              "  .colab-df-quickchart {\n",
              "      --bg-color: #E8F0FE;\n",
              "      --fill-color: #1967D2;\n",
              "      --hover-bg-color: #E2EBFA;\n",
              "      --hover-fill-color: #174EA6;\n",
              "      --disabled-fill-color: #AAA;\n",
              "      --disabled-bg-color: #DDD;\n",
              "  }\n",
              "\n",
              "  [theme=dark] .colab-df-quickchart {\n",
              "      --bg-color: #3B4455;\n",
              "      --fill-color: #D2E3FC;\n",
              "      --hover-bg-color: #434B5C;\n",
              "      --hover-fill-color: #FFFFFF;\n",
              "      --disabled-bg-color: #3B4455;\n",
              "      --disabled-fill-color: #666;\n",
              "  }\n",
              "\n",
              "  .colab-df-quickchart {\n",
              "    background-color: var(--bg-color);\n",
              "    border: none;\n",
              "    border-radius: 50%;\n",
              "    cursor: pointer;\n",
              "    display: none;\n",
              "    fill: var(--fill-color);\n",
              "    height: 32px;\n",
              "    padding: 0;\n",
              "    width: 32px;\n",
              "  }\n",
              "\n",
              "  .colab-df-quickchart:hover {\n",
              "    background-color: var(--hover-bg-color);\n",
              "    box-shadow: 0 1px 2px rgba(60, 64, 67, 0.3), 0 1px 3px 1px rgba(60, 64, 67, 0.15);\n",
              "    fill: var(--button-hover-fill-color);\n",
              "  }\n",
              "\n",
              "  .colab-df-quickchart-complete:disabled,\n",
              "  .colab-df-quickchart-complete:disabled:hover {\n",
              "    background-color: var(--disabled-bg-color);\n",
              "    fill: var(--disabled-fill-color);\n",
              "    box-shadow: none;\n",
              "  }\n",
              "\n",
              "  .colab-df-spinner {\n",
              "    border: 2px solid var(--fill-color);\n",
              "    border-color: transparent;\n",
              "    border-bottom-color: var(--fill-color);\n",
              "    animation:\n",
              "      spin 1s steps(1) infinite;\n",
              "  }\n",
              "\n",
              "  @keyframes spin {\n",
              "    0% {\n",
              "      border-color: transparent;\n",
              "      border-bottom-color: var(--fill-color);\n",
              "      border-left-color: var(--fill-color);\n",
              "    }\n",
              "    20% {\n",
              "      border-color: transparent;\n",
              "      border-left-color: var(--fill-color);\n",
              "      border-top-color: var(--fill-color);\n",
              "    }\n",
              "    30% {\n",
              "      border-color: transparent;\n",
              "      border-left-color: var(--fill-color);\n",
              "      border-top-color: var(--fill-color);\n",
              "      border-right-color: var(--fill-color);\n",
              "    }\n",
              "    40% {\n",
              "      border-color: transparent;\n",
              "      border-right-color: var(--fill-color);\n",
              "      border-top-color: var(--fill-color);\n",
              "    }\n",
              "    60% {\n",
              "      border-color: transparent;\n",
              "      border-right-color: var(--fill-color);\n",
              "    }\n",
              "    80% {\n",
              "      border-color: transparent;\n",
              "      border-right-color: var(--fill-color);\n",
              "      border-bottom-color: var(--fill-color);\n",
              "    }\n",
              "    90% {\n",
              "      border-color: transparent;\n",
              "      border-bottom-color: var(--fill-color);\n",
              "    }\n",
              "  }\n",
              "</style>\n",
              "\n",
              "  <script>\n",
              "    async function quickchart(key) {\n",
              "      const quickchartButtonEl =\n",
              "        document.querySelector('#' + key + ' button');\n",
              "      quickchartButtonEl.disabled = true;  // To prevent multiple clicks.\n",
              "      quickchartButtonEl.classList.add('colab-df-spinner');\n",
              "      try {\n",
              "        const charts = await google.colab.kernel.invokeFunction(\n",
              "            'suggestCharts', [key], {});\n",
              "      } catch (error) {\n",
              "        console.error('Error during call to suggestCharts:', error);\n",
              "      }\n",
              "      quickchartButtonEl.classList.remove('colab-df-spinner');\n",
              "      quickchartButtonEl.classList.add('colab-df-quickchart-complete');\n",
              "    }\n",
              "    (() => {\n",
              "      let quickchartButtonEl =\n",
              "        document.querySelector('#df-75b21aaf-a024-4c0b-964e-438f55f1bac8 button');\n",
              "      quickchartButtonEl.style.display =\n",
              "        google.colab.kernel.accessAllowed ? 'block' : 'none';\n",
              "    })();\n",
              "  </script>\n",
              "</div>\n",
              "\n",
              "  <div id=\"id_20601149-91a9-49bd-81bf-46faa7c9114b\">\n",
              "    <style>\n",
              "      .colab-df-generate {\n",
              "        background-color: #E8F0FE;\n",
              "        border: none;\n",
              "        border-radius: 50%;\n",
              "        cursor: pointer;\n",
              "        display: none;\n",
              "        fill: #1967D2;\n",
              "        height: 32px;\n",
              "        padding: 0 0 0 0;\n",
              "        width: 32px;\n",
              "      }\n",
              "\n",
              "      .colab-df-generate:hover {\n",
              "        background-color: #E2EBFA;\n",
              "        box-shadow: 0px 1px 2px rgba(60, 64, 67, 0.3), 0px 1px 3px 1px rgba(60, 64, 67, 0.15);\n",
              "        fill: #174EA6;\n",
              "      }\n",
              "\n",
              "      [theme=dark] .colab-df-generate {\n",
              "        background-color: #3B4455;\n",
              "        fill: #D2E3FC;\n",
              "      }\n",
              "\n",
              "      [theme=dark] .colab-df-generate:hover {\n",
              "        background-color: #434B5C;\n",
              "        box-shadow: 0px 1px 3px 1px rgba(0, 0, 0, 0.15);\n",
              "        filter: drop-shadow(0px 1px 2px rgba(0, 0, 0, 0.3));\n",
              "        fill: #FFFFFF;\n",
              "      }\n",
              "    </style>\n",
              "    <button class=\"colab-df-generate\" onclick=\"generateWithVariable('df')\"\n",
              "            title=\"Generate code using this dataframe.\"\n",
              "            style=\"display:none;\">\n",
              "\n",
              "  <svg xmlns=\"http://www.w3.org/2000/svg\" height=\"24px\"viewBox=\"0 0 24 24\"\n",
              "       width=\"24px\">\n",
              "    <path d=\"M7,19H8.4L18.45,9,17,7.55,7,17.6ZM5,21V16.75L18.45,3.32a2,2,0,0,1,2.83,0l1.4,1.43a1.91,1.91,0,0,1,.58,1.4,1.91,1.91,0,0,1-.58,1.4L9.25,21ZM18.45,9,17,7.55Zm-12,3A5.31,5.31,0,0,0,4.9,8.1,5.31,5.31,0,0,0,1,6.5,5.31,5.31,0,0,0,4.9,4.9,5.31,5.31,0,0,0,6.5,1,5.31,5.31,0,0,0,8.1,4.9,5.31,5.31,0,0,0,12,6.5,5.46,5.46,0,0,0,6.5,12Z\"/>\n",
              "  </svg>\n",
              "    </button>\n",
              "    <script>\n",
              "      (() => {\n",
              "      const buttonEl =\n",
              "        document.querySelector('#id_20601149-91a9-49bd-81bf-46faa7c9114b button.colab-df-generate');\n",
              "      buttonEl.style.display =\n",
              "        google.colab.kernel.accessAllowed ? 'block' : 'none';\n",
              "\n",
              "      buttonEl.onclick = () => {\n",
              "        google.colab.notebook.generateWithVariable('df');\n",
              "      }\n",
              "      })();\n",
              "    </script>\n",
              "  </div>\n",
              "\n",
              "    </div>\n",
              "  </div>\n"
            ],
            "application/vnd.google.colaboratory.intrinsic+json": {
              "type": "dataframe",
              "variable_name": "df",
              "summary": "{\n  \"name\": \"df\",\n  \"rows\": 5000,\n  \"fields\": [\n    {\n      \"column\": \"id\",\n      \"properties\": {\n        \"dtype\": \"string\",\n        \"num_unique_values\": 5000,\n        \"samples\": [\n          \"AB_1502\",\n          \"AB_2587\",\n          \"AB_2654\"\n        ],\n        \"semantic_type\": \"\",\n        \"description\": \"\"\n      }\n    },\n    {\n      \"column\": \"trans_after\",\n      \"properties\": {\n        \"dtype\": \"number\",\n        \"std\": 0,\n        \"min\": 0,\n        \"max\": 5,\n        \"num_unique_values\": 6,\n        \"samples\": [\n          0,\n          1,\n          4\n        ],\n        \"semantic_type\": \"\",\n        \"description\": \"\"\n      }\n    },\n    {\n      \"column\": \"revenue_after\",\n      \"properties\": {\n        \"dtype\": \"number\",\n        \"std\": 23.886834189313188,\n        \"min\": 0.0,\n        \"max\": 252.96,\n        \"num_unique_values\": 288,\n        \"samples\": [\n          110.184,\n          59.892,\n          118.98\n        ],\n        \"semantic_type\": \"\",\n        \"description\": \"\"\n      }\n    },\n    {\n      \"column\": \"test_coupon\",\n      \"properties\": {\n        \"dtype\": \"number\",\n        \"std\": 0,\n        \"min\": 0,\n        \"max\": 1,\n        \"num_unique_values\": 2,\n        \"samples\": [\n          1,\n          0\n        ],\n        \"semantic_type\": \"\",\n        \"description\": \"\"\n      }\n    },\n    {\n      \"column\": \"non_male\",\n      \"properties\": {\n        \"dtype\": \"number\",\n        \"std\": 0,\n        \"min\": 0,\n        \"max\": 1,\n        \"num_unique_values\": 2,\n        \"samples\": [\n          1,\n          0\n        ],\n        \"semantic_type\": \"\",\n        \"description\": \"\"\n      }\n    },\n    {\n      \"column\": \"income\",\n      \"properties\": {\n        \"dtype\": \"category\",\n        \"num_unique_values\": 2,\n        \"samples\": [\n          \"low\",\n          \"high\"\n        ],\n        \"semantic_type\": \"\",\n        \"description\": \"\"\n      }\n    },\n    {\n      \"column\": \"channel_acq\",\n      \"properties\": {\n        \"dtype\": \"number\",\n        \"std\": 1,\n        \"min\": 1,\n        \"max\": 5,\n        \"num_unique_values\": 5,\n        \"samples\": [\n          1,\n          5\n        ],\n        \"semantic_type\": \"\",\n        \"description\": \"\"\n      }\n    },\n    {\n      \"column\": \"num_past_purch\",\n      \"properties\": {\n        \"dtype\": \"number\",\n        \"std\": 2,\n        \"min\": 0,\n        \"max\": 22,\n        \"num_unique_values\": 22,\n        \"samples\": [\n          6,\n          8\n        ],\n        \"semantic_type\": \"\",\n        \"description\": \"\"\n      }\n    },\n    {\n      \"column\": \"spent_last_purchase\",\n      \"properties\": {\n        \"dtype\": \"number\",\n        \"std\": 55.4665157774477,\n        \"min\": 0.0,\n        \"max\": 361.96,\n        \"num_unique_values\": 332,\n        \"samples\": [\n          52.49,\n          221.97\n        ],\n        \"semantic_type\": \"\",\n        \"description\": \"\"\n      }\n    }\n  ]\n}"
            }
          },
          "metadata": {},
          "execution_count": 3
        }
      ]
    },
    {
      "cell_type": "code",
      "source": [
        "df['channel_acq'] = df['channel_acq'].astype(\"category\").cat.rename_categories({\n",
        "    1: \"Google\", 2: \"Facebook\", 3: \"instagram\", 4:\"Referal\", 5:\"Other\"\n",
        "    })"
      ],
      "metadata": {
        "id": "pbMzVMsE9TE-"
      },
      "execution_count": null,
      "outputs": []
    },
    {
      "cell_type": "code",
      "source": [
        "df['channel_acq'].value_counts()"
      ],
      "metadata": {
        "colab": {
          "base_uri": "https://localhost:8080/"
        },
        "id": "DrnrHWZf9d0v",
        "outputId": "3ea7545e-1578-4fc3-aea9-9316b2c79665"
      },
      "execution_count": null,
      "outputs": [
        {
          "output_type": "execute_result",
          "data": {
            "text/plain": [
              "channel_acq\n",
              "Google       2035\n",
              "instagram    1552\n",
              "Facebook     1059\n",
              "Referal       238\n",
              "Other         116\n",
              "Name: count, dtype: int64"
            ]
          },
          "metadata": {},
          "execution_count": 5
        }
      ]
    },
    {
      "cell_type": "markdown",
      "source": [
        "# Question 1\n",
        "\n",
        "Your colleague, Randy, proposed targeting the following segment: consumers who\n",
        "were acquired from the Instagram channel and have made purchases on the company\n",
        "website twice or fewer prior to the experiment (hereafter, Segment A). As the first step,\n",
        "you want to see if the experiment passes the randomization check, in particular\n",
        "regarding the referral channel composition (i.e. which channel they came from) and\n",
        "the pre-experiment purchase counts among the treatment and control users."
      ],
      "metadata": {
        "id": "fWh5VJ2ixO9B"
      }
    },
    {
      "cell_type": "markdown",
      "source": [
        "##Question 1(a)\n",
        "\n",
        "Use a single regression (instead of multiple separate regressions) to assess\n",
        "whether the experiment and control customers are statistically similar in terms of\n",
        "their acquisition channel composition and pre-experiment purchase counts. Note\n",
        "that you need to compare the composition across all acquisition channels, not just\n",
        "the percentage of customers acquired from Instagram. Include the point estimates\n",
        "and confidence intervals of the treatment-control differences regarding channel\n",
        "composition and pre-experiment purchase counts. (5 points)"
      ],
      "metadata": {
        "id": "ce2g7rpPxrIa"
      }
    },
    {
      "cell_type": "code",
      "source": [
        "X = df[['test_coupon', 'channel_acq', 'num_past_purch']]\n",
        "X = sm.add_constant(X)"
      ],
      "metadata": {
        "id": "gOPmeDPQgipY"
      },
      "execution_count": null,
      "outputs": []
    },
    {
      "cell_type": "code",
      "source": [
        "y = df['revenue_after']"
      ],
      "metadata": {
        "id": "-2RpXZ1vg1Q6"
      },
      "execution_count": null,
      "outputs": []
    },
    {
      "cell_type": "code",
      "source": [
        "ran_check1 = smf.ols(formula='test_coupon ~ channel_acq + num_past_purch', data=df).fit()\n",
        "result_ran_check1 = Stargazer([ran_check1])\n",
        "result_ran_check1"
      ],
      "metadata": {
        "colab": {
          "base_uri": "https://localhost:8080/",
          "height": 497
        },
        "id": "y1JNo8GX-C9X",
        "outputId": "18519456-f202-4624-b1a9-e87e5053fd48"
      },
      "execution_count": null,
      "outputs": [
        {
          "output_type": "execute_result",
          "data": {
            "text/plain": [
              "<stargazer.stargazer.Stargazer at 0x7feb9b029f00>"
            ],
            "text/html": [
              "<table style=\"text-align:center\"><tr><td colspan=\"2\" style=\"border-bottom: 1px solid black\"></td></tr>\n",
              "<tr><td style=\"text-align:left\"></td><td colspan=\"1\"><em>Dependent variable: test_coupon</em></td></tr><tr><td style=\"text-align:left\"></td><tr><td style=\"text-align:left\"></td><td>(1)</td></tr>\n",
              "<tr><td colspan=\"2\" style=\"border-bottom: 1px solid black\"></td></tr>\n",
              "\n",
              "<tr><td style=\"text-align:left\">Intercept</td><td>0.490<sup>***</sup></td></tr>\n",
              "<tr><td style=\"text-align:left\"></td><td>(0.012)</td></tr>\n",
              "<tr><td style=\"text-align:left\">channel_acq[T.Facebook]</td><td>0.018<sup></sup></td></tr>\n",
              "<tr><td style=\"text-align:left\"></td><td>(0.019)</td></tr>\n",
              "<tr><td style=\"text-align:left\">channel_acq[T.Other]</td><td>0.004<sup></sup></td></tr>\n",
              "<tr><td style=\"text-align:left\"></td><td>(0.048)</td></tr>\n",
              "<tr><td style=\"text-align:left\">channel_acq[T.Referal]</td><td>0.029<sup></sup></td></tr>\n",
              "<tr><td style=\"text-align:left\"></td><td>(0.034)</td></tr>\n",
              "<tr><td style=\"text-align:left\">channel_acq[T.instagram]</td><td>-0.001<sup></sup></td></tr>\n",
              "<tr><td style=\"text-align:left\"></td><td>(0.017)</td></tr>\n",
              "<tr><td style=\"text-align:left\">num_past_purch</td><td>0.003<sup></sup></td></tr>\n",
              "<tr><td style=\"text-align:left\"></td><td>(0.003)</td></tr>\n",
              "\n",
              "<td colspan=\"2\" style=\"border-bottom: 1px solid black\"></td></tr>\n",
              "<tr><td style=\"text-align: left\">Observations</td><td>5000</td></tr><tr><td style=\"text-align: left\">R<sup>2</sup></td><td>0.001</td></tr><tr><td style=\"text-align: left\">Adjusted R<sup>2</sup></td><td>-0.000</td></tr><tr><td style=\"text-align: left\">Residual Std. Error</td><td>0.500 (df=4994)</td></tr><tr><td style=\"text-align: left\">F Statistic</td><td>0.542<sup></sup> (df=5; 4994)</td></tr>\n",
              "<tr><td colspan=\"2\" style=\"border-bottom: 1px solid black\"></td></tr><tr><td style=\"text-align: left\">Note:</td><td colspan=\"1\" style=\"text-align: right\"><sup>*</sup>p&lt;0.1; <sup>**</sup>p&lt;0.05; <sup>***</sup>p&lt;0.01</td></tr></table>"
            ]
          },
          "metadata": {},
          "execution_count": 8
        }
      ]
    },
    {
      "cell_type": "code",
      "source": [
        " #Point Estimates\n",
        " ran_check1.params"
      ],
      "metadata": {
        "colab": {
          "base_uri": "https://localhost:8080/"
        },
        "id": "SUtWlmoq_-Fa",
        "outputId": "f3857cf9-5a04-40ef-bd53-c76b34dd4cc2"
      },
      "execution_count": null,
      "outputs": [
        {
          "output_type": "execute_result",
          "data": {
            "text/plain": [
              "Intercept                   0.489974\n",
              "channel_acq[T.Facebook]     0.018119\n",
              "channel_acq[T.instagram]   -0.001188\n",
              "channel_acq[T.Referal]      0.029159\n",
              "channel_acq[T.Other]        0.004032\n",
              "num_past_purch              0.002664\n",
              "dtype: float64"
            ]
          },
          "metadata": {},
          "execution_count": 9
        }
      ]
    },
    {
      "cell_type": "code",
      "source": [
        "#Confidence Intervals\n",
        "ran_check1.conf_int()"
      ],
      "metadata": {
        "colab": {
          "base_uri": "https://localhost:8080/",
          "height": 237
        },
        "id": "iLR1vPTIABfz",
        "outputId": "73c4b559-9b32-43d6-d5e4-a67f3f8a7e1a"
      },
      "execution_count": null,
      "outputs": [
        {
          "output_type": "execute_result",
          "data": {
            "text/plain": [
              "                                 0         1\n",
              "Intercept                 0.465658  0.514289\n",
              "channel_acq[T.Facebook]  -0.019038  0.055275\n",
              "channel_acq[T.instagram] -0.034233  0.031857\n",
              "channel_acq[T.Referal]   -0.038030  0.096348\n",
              "channel_acq[T.Other]     -0.089576  0.097641\n",
              "num_past_purch           -0.002755  0.008082"
            ],
            "text/html": [
              "\n",
              "  <div id=\"df-5d76a330-3998-48de-a357-e5cf7bca13c6\" class=\"colab-df-container\">\n",
              "    <div>\n",
              "<style scoped>\n",
              "    .dataframe tbody tr th:only-of-type {\n",
              "        vertical-align: middle;\n",
              "    }\n",
              "\n",
              "    .dataframe tbody tr th {\n",
              "        vertical-align: top;\n",
              "    }\n",
              "\n",
              "    .dataframe thead th {\n",
              "        text-align: right;\n",
              "    }\n",
              "</style>\n",
              "<table border=\"1\" class=\"dataframe\">\n",
              "  <thead>\n",
              "    <tr style=\"text-align: right;\">\n",
              "      <th></th>\n",
              "      <th>0</th>\n",
              "      <th>1</th>\n",
              "    </tr>\n",
              "  </thead>\n",
              "  <tbody>\n",
              "    <tr>\n",
              "      <th>Intercept</th>\n",
              "      <td>0.465658</td>\n",
              "      <td>0.514289</td>\n",
              "    </tr>\n",
              "    <tr>\n",
              "      <th>channel_acq[T.Facebook]</th>\n",
              "      <td>-0.019038</td>\n",
              "      <td>0.055275</td>\n",
              "    </tr>\n",
              "    <tr>\n",
              "      <th>channel_acq[T.instagram]</th>\n",
              "      <td>-0.034233</td>\n",
              "      <td>0.031857</td>\n",
              "    </tr>\n",
              "    <tr>\n",
              "      <th>channel_acq[T.Referal]</th>\n",
              "      <td>-0.038030</td>\n",
              "      <td>0.096348</td>\n",
              "    </tr>\n",
              "    <tr>\n",
              "      <th>channel_acq[T.Other]</th>\n",
              "      <td>-0.089576</td>\n",
              "      <td>0.097641</td>\n",
              "    </tr>\n",
              "    <tr>\n",
              "      <th>num_past_purch</th>\n",
              "      <td>-0.002755</td>\n",
              "      <td>0.008082</td>\n",
              "    </tr>\n",
              "  </tbody>\n",
              "</table>\n",
              "</div>\n",
              "    <div class=\"colab-df-buttons\">\n",
              "\n",
              "  <div class=\"colab-df-container\">\n",
              "    <button class=\"colab-df-convert\" onclick=\"convertToInteractive('df-5d76a330-3998-48de-a357-e5cf7bca13c6')\"\n",
              "            title=\"Convert this dataframe to an interactive table.\"\n",
              "            style=\"display:none;\">\n",
              "\n",
              "  <svg xmlns=\"http://www.w3.org/2000/svg\" height=\"24px\" viewBox=\"0 -960 960 960\">\n",
              "    <path d=\"M120-120v-720h720v720H120Zm60-500h600v-160H180v160Zm220 220h160v-160H400v160Zm0 220h160v-160H400v160ZM180-400h160v-160H180v160Zm440 0h160v-160H620v160ZM180-180h160v-160H180v160Zm440 0h160v-160H620v160Z\"/>\n",
              "  </svg>\n",
              "    </button>\n",
              "\n",
              "  <style>\n",
              "    .colab-df-container {\n",
              "      display:flex;\n",
              "      gap: 12px;\n",
              "    }\n",
              "\n",
              "    .colab-df-convert {\n",
              "      background-color: #E8F0FE;\n",
              "      border: none;\n",
              "      border-radius: 50%;\n",
              "      cursor: pointer;\n",
              "      display: none;\n",
              "      fill: #1967D2;\n",
              "      height: 32px;\n",
              "      padding: 0 0 0 0;\n",
              "      width: 32px;\n",
              "    }\n",
              "\n",
              "    .colab-df-convert:hover {\n",
              "      background-color: #E2EBFA;\n",
              "      box-shadow: 0px 1px 2px rgba(60, 64, 67, 0.3), 0px 1px 3px 1px rgba(60, 64, 67, 0.15);\n",
              "      fill: #174EA6;\n",
              "    }\n",
              "\n",
              "    .colab-df-buttons div {\n",
              "      margin-bottom: 4px;\n",
              "    }\n",
              "\n",
              "    [theme=dark] .colab-df-convert {\n",
              "      background-color: #3B4455;\n",
              "      fill: #D2E3FC;\n",
              "    }\n",
              "\n",
              "    [theme=dark] .colab-df-convert:hover {\n",
              "      background-color: #434B5C;\n",
              "      box-shadow: 0px 1px 3px 1px rgba(0, 0, 0, 0.15);\n",
              "      filter: drop-shadow(0px 1px 2px rgba(0, 0, 0, 0.3));\n",
              "      fill: #FFFFFF;\n",
              "    }\n",
              "  </style>\n",
              "\n",
              "    <script>\n",
              "      const buttonEl =\n",
              "        document.querySelector('#df-5d76a330-3998-48de-a357-e5cf7bca13c6 button.colab-df-convert');\n",
              "      buttonEl.style.display =\n",
              "        google.colab.kernel.accessAllowed ? 'block' : 'none';\n",
              "\n",
              "      async function convertToInteractive(key) {\n",
              "        const element = document.querySelector('#df-5d76a330-3998-48de-a357-e5cf7bca13c6');\n",
              "        const dataTable =\n",
              "          await google.colab.kernel.invokeFunction('convertToInteractive',\n",
              "                                                    [key], {});\n",
              "        if (!dataTable) return;\n",
              "\n",
              "        const docLinkHtml = 'Like what you see? Visit the ' +\n",
              "          '<a target=\"_blank\" href=https://colab.research.google.com/notebooks/data_table.ipynb>data table notebook</a>'\n",
              "          + ' to learn more about interactive tables.';\n",
              "        element.innerHTML = '';\n",
              "        dataTable['output_type'] = 'display_data';\n",
              "        await google.colab.output.renderOutput(dataTable, element);\n",
              "        const docLink = document.createElement('div');\n",
              "        docLink.innerHTML = docLinkHtml;\n",
              "        element.appendChild(docLink);\n",
              "      }\n",
              "    </script>\n",
              "  </div>\n",
              "\n",
              "\n",
              "<div id=\"df-51d1be80-7d44-429c-a296-295fe1af10fd\">\n",
              "  <button class=\"colab-df-quickchart\" onclick=\"quickchart('df-51d1be80-7d44-429c-a296-295fe1af10fd')\"\n",
              "            title=\"Suggest charts\"\n",
              "            style=\"display:none;\">\n",
              "\n",
              "<svg xmlns=\"http://www.w3.org/2000/svg\" height=\"24px\"viewBox=\"0 0 24 24\"\n",
              "     width=\"24px\">\n",
              "    <g>\n",
              "        <path d=\"M19 3H5c-1.1 0-2 .9-2 2v14c0 1.1.9 2 2 2h14c1.1 0 2-.9 2-2V5c0-1.1-.9-2-2-2zM9 17H7v-7h2v7zm4 0h-2V7h2v10zm4 0h-2v-4h2v4z\"/>\n",
              "    </g>\n",
              "</svg>\n",
              "  </button>\n",
              "\n",
              "<style>\n",
              "  .colab-df-quickchart {\n",
              "      --bg-color: #E8F0FE;\n",
              "      --fill-color: #1967D2;\n",
              "      --hover-bg-color: #E2EBFA;\n",
              "      --hover-fill-color: #174EA6;\n",
              "      --disabled-fill-color: #AAA;\n",
              "      --disabled-bg-color: #DDD;\n",
              "  }\n",
              "\n",
              "  [theme=dark] .colab-df-quickchart {\n",
              "      --bg-color: #3B4455;\n",
              "      --fill-color: #D2E3FC;\n",
              "      --hover-bg-color: #434B5C;\n",
              "      --hover-fill-color: #FFFFFF;\n",
              "      --disabled-bg-color: #3B4455;\n",
              "      --disabled-fill-color: #666;\n",
              "  }\n",
              "\n",
              "  .colab-df-quickchart {\n",
              "    background-color: var(--bg-color);\n",
              "    border: none;\n",
              "    border-radius: 50%;\n",
              "    cursor: pointer;\n",
              "    display: none;\n",
              "    fill: var(--fill-color);\n",
              "    height: 32px;\n",
              "    padding: 0;\n",
              "    width: 32px;\n",
              "  }\n",
              "\n",
              "  .colab-df-quickchart:hover {\n",
              "    background-color: var(--hover-bg-color);\n",
              "    box-shadow: 0 1px 2px rgba(60, 64, 67, 0.3), 0 1px 3px 1px rgba(60, 64, 67, 0.15);\n",
              "    fill: var(--button-hover-fill-color);\n",
              "  }\n",
              "\n",
              "  .colab-df-quickchart-complete:disabled,\n",
              "  .colab-df-quickchart-complete:disabled:hover {\n",
              "    background-color: var(--disabled-bg-color);\n",
              "    fill: var(--disabled-fill-color);\n",
              "    box-shadow: none;\n",
              "  }\n",
              "\n",
              "  .colab-df-spinner {\n",
              "    border: 2px solid var(--fill-color);\n",
              "    border-color: transparent;\n",
              "    border-bottom-color: var(--fill-color);\n",
              "    animation:\n",
              "      spin 1s steps(1) infinite;\n",
              "  }\n",
              "\n",
              "  @keyframes spin {\n",
              "    0% {\n",
              "      border-color: transparent;\n",
              "      border-bottom-color: var(--fill-color);\n",
              "      border-left-color: var(--fill-color);\n",
              "    }\n",
              "    20% {\n",
              "      border-color: transparent;\n",
              "      border-left-color: var(--fill-color);\n",
              "      border-top-color: var(--fill-color);\n",
              "    }\n",
              "    30% {\n",
              "      border-color: transparent;\n",
              "      border-left-color: var(--fill-color);\n",
              "      border-top-color: var(--fill-color);\n",
              "      border-right-color: var(--fill-color);\n",
              "    }\n",
              "    40% {\n",
              "      border-color: transparent;\n",
              "      border-right-color: var(--fill-color);\n",
              "      border-top-color: var(--fill-color);\n",
              "    }\n",
              "    60% {\n",
              "      border-color: transparent;\n",
              "      border-right-color: var(--fill-color);\n",
              "    }\n",
              "    80% {\n",
              "      border-color: transparent;\n",
              "      border-right-color: var(--fill-color);\n",
              "      border-bottom-color: var(--fill-color);\n",
              "    }\n",
              "    90% {\n",
              "      border-color: transparent;\n",
              "      border-bottom-color: var(--fill-color);\n",
              "    }\n",
              "  }\n",
              "</style>\n",
              "\n",
              "  <script>\n",
              "    async function quickchart(key) {\n",
              "      const quickchartButtonEl =\n",
              "        document.querySelector('#' + key + ' button');\n",
              "      quickchartButtonEl.disabled = true;  // To prevent multiple clicks.\n",
              "      quickchartButtonEl.classList.add('colab-df-spinner');\n",
              "      try {\n",
              "        const charts = await google.colab.kernel.invokeFunction(\n",
              "            'suggestCharts', [key], {});\n",
              "      } catch (error) {\n",
              "        console.error('Error during call to suggestCharts:', error);\n",
              "      }\n",
              "      quickchartButtonEl.classList.remove('colab-df-spinner');\n",
              "      quickchartButtonEl.classList.add('colab-df-quickchart-complete');\n",
              "    }\n",
              "    (() => {\n",
              "      let quickchartButtonEl =\n",
              "        document.querySelector('#df-51d1be80-7d44-429c-a296-295fe1af10fd button');\n",
              "      quickchartButtonEl.style.display =\n",
              "        google.colab.kernel.accessAllowed ? 'block' : 'none';\n",
              "    })();\n",
              "  </script>\n",
              "</div>\n",
              "\n",
              "    </div>\n",
              "  </div>\n"
            ],
            "application/vnd.google.colaboratory.intrinsic+json": {
              "type": "dataframe",
              "summary": "{\n  \"name\": \"ran_check1\",\n  \"rows\": 6,\n  \"fields\": [\n    {\n      \"column\": 0,\n      \"properties\": {\n        \"dtype\": \"number\",\n        \"std\": 0.20716826015890152,\n        \"min\": -0.0895763556796917,\n        \"max\": 0.4656584041068602,\n        \"num_unique_values\": 6,\n        \"samples\": [\n          0.4656584041068602,\n          -0.019037540060849,\n          -0.00275459960089022\n        ],\n        \"semantic_type\": \"\",\n        \"description\": \"\"\n      }\n    },\n    {\n      \"column\": 1,\n      \"properties\": {\n        \"dtype\": \"number\",\n        \"std\": 0.18965516657275233,\n        \"min\": 0.008082443539063355,\n        \"max\": 0.5142890822622112,\n        \"num_unique_values\": 6,\n        \"samples\": [\n          0.5142890822622112,\n          0.05527534112674319,\n          0.008082443539063355\n        ],\n        \"semantic_type\": \"\",\n        \"description\": \"\"\n      }\n    }\n  ]\n}"
            }
          },
          "metadata": {},
          "execution_count": 10
        }
      ]
    },
    {
      "cell_type": "markdown",
      "source": [
        "##Question 1(b)\n",
        "Does the experiment pass the randomization check based on your calculation above? (5 point)"
      ],
      "metadata": {
        "id": "XRIMawMQwshJ"
      }
    },
    {
      "cell_type": "markdown",
      "source": [
        "The confidence intervals and coefficients for all values of the parameters have zero in them. Moreover, even the p values are more than 0.05, meaning results are statistically significant. This means that our experiment does pass the randomised check."
      ],
      "metadata": {
        "id": "4EqP0nIzymFU"
      }
    },
    {
      "cell_type": "markdown",
      "source": [
        "#Question 2\n",
        "Your team now wants to evaluate the effectiveness of this targeting strategy using the experiment data you have. The regression result looks like the following"
      ],
      "metadata": {
        "id": "nyGSe_XNyuDc"
      }
    },
    {
      "cell_type": "code",
      "source": [
        "df['segment_A'] = ((df['num_past_purch'] <= 2) & (df['channel_acq'] == 'instagram')).astype('float')\n",
        "hetero_effect_cust = smf.ols(formula='revenue_after ~ test_coupon * segment_A', data=df).fit()\n",
        "Stargazer([hetero_effect_cust])"
      ],
      "metadata": {
        "colab": {
          "base_uri": "https://localhost:8080/",
          "height": 406
        },
        "id": "CeoCSXvQwiXF",
        "outputId": "2af71a15-fe48-42d7-f2c3-0ba43ec76b3c"
      },
      "execution_count": null,
      "outputs": [
        {
          "output_type": "execute_result",
          "data": {
            "text/plain": [
              "<stargazer.stargazer.Stargazer at 0x7feb9a4dd8d0>"
            ],
            "text/html": [
              "<table style=\"text-align:center\"><tr><td colspan=\"2\" style=\"border-bottom: 1px solid black\"></td></tr>\n",
              "<tr><td style=\"text-align:left\"></td><td colspan=\"1\"><em>Dependent variable: revenue_after</em></td></tr><tr><td style=\"text-align:left\"></td><tr><td style=\"text-align:left\"></td><td>(1)</td></tr>\n",
              "<tr><td colspan=\"2\" style=\"border-bottom: 1px solid black\"></td></tr>\n",
              "\n",
              "<tr><td style=\"text-align:left\">Intercept</td><td>8.541<sup>***</sup></td></tr>\n",
              "<tr><td style=\"text-align:left\"></td><td>(0.540)</td></tr>\n",
              "<tr><td style=\"text-align:left\">segment_A</td><td>-3.514<sup>***</sup></td></tr>\n",
              "<tr><td style=\"text-align:left\"></td><td>(1.160)</td></tr>\n",
              "<tr><td style=\"text-align:left\">test_coupon</td><td>-0.652<sup></sup></td></tr>\n",
              "<tr><td style=\"text-align:left\"></td><td>(0.762)</td></tr>\n",
              "<tr><td style=\"text-align:left\">test_coupon:segment_A</td><td>2.756<sup>*</sup></td></tr>\n",
              "<tr><td style=\"text-align:left\"></td><td>(1.646)</td></tr>\n",
              "\n",
              "<td colspan=\"2\" style=\"border-bottom: 1px solid black\"></td></tr>\n",
              "<tr><td style=\"text-align: left\">Observations</td><td>5000</td></tr><tr><td style=\"text-align: left\">R<sup>2</sup></td><td>0.002</td></tr><tr><td style=\"text-align: left\">Adjusted R<sup>2</sup></td><td>0.001</td></tr><tr><td style=\"text-align: left\">Residual Std. Error</td><td>23.871 (df=4996)</td></tr><tr><td style=\"text-align: left\">F Statistic</td><td>3.205<sup>**</sup> (df=3; 4996)</td></tr>\n",
              "<tr><td colspan=\"2\" style=\"border-bottom: 1px solid black\"></td></tr><tr><td style=\"text-align: left\">Note:</td><td colspan=\"1\" style=\"text-align: right\"><sup>*</sup>p&lt;0.1; <sup>**</sup>p&lt;0.05; <sup>***</sup>p&lt;0.01</td></tr></table>"
            ]
          },
          "metadata": {},
          "execution_count": 11
        }
      ]
    },
    {
      "cell_type": "markdown",
      "source": [
        "## Question 2(a)\n",
        "What is the meaning of the Intercept coefficient “8.541”? Which customer group does this number correspond to? (5 points)"
      ],
      "metadata": {
        "id": "8R89GL6czEVS"
      }
    },
    {
      "cell_type": "markdown",
      "source": [
        "## Answer 2(a)\n",
        "The Intercept coefficient is 8.541.\n",
        "This means that when both test_coupon and segment_A are zero, the expected revenue_after is approximately 8.541 units.\n",
        "\n",
        "* The customer group corresponding to this Intercept coefficient includes those who have not received the coupon (test_coupon = 0) and do not belong to Segment A (segment_A = 0).\n",
        "* Therefore, this Intercept coefficient represents the baseline revenue level for customers who have not received the coupon and were not acquired through Instagram with few past purchases."
      ],
      "metadata": {
        "id": "aEW4t9DjzQTU"
      }
    },
    {
      "cell_type": "markdown",
      "source": [
        "##Question 2(b)\n",
        "What is the incremental revenue per user when you send the coupon to the customers outside segment A? (5 points)"
      ],
      "metadata": {
        "id": "UdgUmfxx0jPr"
      }
    },
    {
      "cell_type": "markdown",
      "source": [
        "## Answer 2(b)\n",
        "\n",
        "Given the regression results:\n",
        "\n",
        "* The coefficient for the test_coupon variable is -0.652.\n",
        "This coefficient represents the change in revenue_after associated with sending the coupon to customers outside segment A, while holding all other variables constant.\n",
        "\n",
        "* Therefore, the incremental revenue per user when sending the coupon to customers outside segment A is approximately -0.652 units.\n",
        "\n",
        "* The negative coefficient indicates a decrease in revenue_after when the coupon is sent to customers outside segment A."
      ],
      "metadata": {
        "id": "u5ePHdhk01R8"
      }
    },
    {
      "cell_type": "markdown",
      "source": [
        "##Question 2(C)\n",
        "What is the incremental revenue per user when you send the coupon to segment A? (5 points)"
      ],
      "metadata": {
        "id": "v3JF8rVK1G_a"
      }
    },
    {
      "cell_type": "markdown",
      "source": [
        "## Answer 2(c)\n",
        "\n",
        "Given the regression results:\n",
        "\n",
        "* The coefficient for the interaction term test_coupon:segment_A is 2.756.\n",
        "This coefficient represents the change in revenue_after associated with sending the coupon to segment A customers, while holding all other variables constant.\n",
        "\n",
        "* Therefore, the incremental revenue per user when sending the coupon to segment A is approximately 2.756 units.\n",
        "\n",
        "* This positive coefficient indicates an increase in revenue_after when the coupon is sent to segment A customers."
      ],
      "metadata": {
        "id": "LO-lFB_R1Ol5"
      }
    },
    {
      "cell_type": "markdown",
      "source": [
        "# Question 3\n",
        "Another colleague in your team, Greg, ran a different regression in order to understand how customers coming from different channels with different prior purchase counts status respond to the coupon differently. He sent the following regression results to the team:"
      ],
      "metadata": {
        "id": "4A4k4AFh5WwE"
      }
    },
    {
      "cell_type": "code",
      "source": [
        "df['instagram'] = (df['channel_acq'] == 'instagram').astype('float')\n",
        "df['few_prior_purch'] = (df['num_past_purch'] <= 2).astype('float')\n",
        "hetero_effects = smf.ols(formula='revenue_after ~ test_coupon * instagram * few_prior_purch', data=df).fit()\n",
        "Stargazer([hetero_effects])"
      ],
      "metadata": {
        "colab": {
          "base_uri": "https://localhost:8080/",
          "height": 589
        },
        "id": "YcBrpisqzDDt",
        "outputId": "c4db57c7-8139-40cb-cc34-5a268d1d93a7"
      },
      "execution_count": null,
      "outputs": [
        {
          "output_type": "execute_result",
          "data": {
            "text/plain": [
              "<stargazer.stargazer.Stargazer at 0x7feb9a2cac80>"
            ],
            "text/html": [
              "<table style=\"text-align:center\"><tr><td colspan=\"2\" style=\"border-bottom: 1px solid black\"></td></tr>\n",
              "<tr><td style=\"text-align:left\"></td><td colspan=\"1\"><em>Dependent variable: revenue_after</em></td></tr><tr><td style=\"text-align:left\"></td><tr><td style=\"text-align:left\"></td><td>(1)</td></tr>\n",
              "<tr><td colspan=\"2\" style=\"border-bottom: 1px solid black\"></td></tr>\n",
              "\n",
              "<tr><td style=\"text-align:left\">Intercept</td><td>16.341<sup>***</sup></td></tr>\n",
              "<tr><td style=\"text-align:left\"></td><td>(1.037)</td></tr>\n",
              "<tr><td style=\"text-align:left\">few_prior_purch</td><td>-13.033<sup>***</sup></td></tr>\n",
              "<tr><td style=\"text-align:left\"></td><td>(1.234)</td></tr>\n",
              "<tr><td style=\"text-align:left\">instagram</td><td>2.021<sup></sup></td></tr>\n",
              "<tr><td style=\"text-align:left\"></td><td>(1.815)</td></tr>\n",
              "<tr><td style=\"text-align:left\">instagram:few_prior_purch</td><td>-0.302<sup></sup></td></tr>\n",
              "<tr><td style=\"text-align:left\"></td><td>(2.178)</td></tr>\n",
              "<tr><td style=\"text-align:left\">test_coupon</td><td>-3.925<sup>***</sup></td></tr>\n",
              "<tr><td style=\"text-align:left\"></td><td>(1.455)</td></tr>\n",
              "<tr><td style=\"text-align:left\">test_coupon:few_prior_purch</td><td>4.535<sup>***</sup></td></tr>\n",
              "<tr><td style=\"text-align:left\"></td><td>(1.735)</td></tr>\n",
              "<tr><td style=\"text-align:left\">test_coupon:instagram</td><td>3.881<sup></sup></td></tr>\n",
              "<tr><td style=\"text-align:left\"></td><td>(2.573)</td></tr>\n",
              "<tr><td style=\"text-align:left\">test_coupon:instagram:few_prior_purch</td><td>-2.387<sup></sup></td></tr>\n",
              "<tr><td style=\"text-align:left\"></td><td>(3.088)</td></tr>\n",
              "\n",
              "<td colspan=\"2\" style=\"border-bottom: 1px solid black\"></td></tr>\n",
              "<tr><td style=\"text-align: left\">Observations</td><td>5000</td></tr><tr><td style=\"text-align: left\">R<sup>2</sup></td><td>0.052</td></tr><tr><td style=\"text-align: left\">Adjusted R<sup>2</sup></td><td>0.051</td></tr><tr><td style=\"text-align: left\">Residual Std. Error</td><td>23.274 (df=4992)</td></tr><tr><td style=\"text-align: left\">F Statistic</td><td>39.132<sup>***</sup> (df=7; 4992)</td></tr>\n",
              "<tr><td colspan=\"2\" style=\"border-bottom: 1px solid black\"></td></tr><tr><td style=\"text-align: left\">Note:</td><td colspan=\"1\" style=\"text-align: right\"><sup>*</sup>p&lt;0.1; <sup>**</sup>p&lt;0.05; <sup>***</sup>p&lt;0.01</td></tr></table>"
            ]
          },
          "metadata": {},
          "execution_count": 12
        }
      ]
    },
    {
      "cell_type": "markdown",
      "source": [
        "## Question 3(a)\n",
        "What is your interpretation on the coefficient `test_coupon: Instagram`? (5 points)"
      ],
      "metadata": {
        "id": "pr8ioDid5hNg"
      }
    },
    {
      "cell_type": "markdown",
      "source": [
        "## Answer 3(a)\n",
        "\n",
        "Positive Coefficient: The positive coefficient (3.881) indicates that when a customer is exposed to both the test coupon and Instagram, there might be a positive effect on their revenue_after compared to customers who are not exposed to either. In other words, the combined effect of the test coupon and Instagram might lead to higher revenue."
      ],
      "metadata": {
        "id": "AefdnxEn5oa4"
      }
    },
    {
      "cell_type": "markdown",
      "source": [
        "##Question 3(b)\n",
        "\n",
        "Based on this regression table, what is the incremental revenue per user when you\n",
        "target coupons to customers acquired through Instagram and have made two prior\n",
        "purchases or fewer? Explain how you use the numbers in this table to calculate the\n",
        "results. (5 points)"
      ],
      "metadata": {
        "id": "QFy54UBk5y1v"
      }
    },
    {
      "cell_type": "markdown",
      "source": [
        "## Answer 3(b)\n",
        "\n",
        "Based on the regression table, the incremental revenue per user when you target coupons to customers acquired through Instagram and have made two prior purchases or fewer is  -2.387.\n",
        "\n",
        "This term captures the specific effect of targeting coupons to customers acquired through Instagram who have made two prior purchases or fewer. In the table, this coefficient is  -2.387.\n",
        "\n",
        "Since the coefficient is negative, it indicates that there is a negative incremental revenue associated with targeting coupons to this specific customer segment. In other words, on average, these customers generate  $2.387 less in revenue after receiving a coupon compared to customers who were not targeted with a coupon."
      ],
      "metadata": {
        "id": "Ri-9zoOY6WBx"
      }
    },
    {
      "cell_type": "markdown",
      "source": [
        "## Question 3(c)\n",
        "\n",
        "Compare the results here with your conclusion in 2(c). Do the results reported by\n",
        "Randy and Greg contradict each other? If they do contradict each other, which\n",
        "result do you trust? Explain your reasoning. (5 points)."
      ],
      "metadata": {
        "id": "3F-uK1Y_6bhy"
      }
    },
    {
      "cell_type": "markdown",
      "source": [
        "# Answer 3(c)\n",
        "The results compared to that of 2(c), and reported by Randy and Greg, contradict each other. Clearly, Randy's result give a better idea as they are directly capturing the right intended segment.It makes sense as having coupons results in lesser immediate revenue compared to revenue without coupons. On the other hand, Greg's results give another point of view saying there are other factors contributing to the result regarding channels and also fewer prior purchases, but unlike that of Randy's results, Greg's are not specific. Hence, its better to trust Randy's results."
      ],
      "metadata": {
        "id": "KnobGIneHLhT"
      }
    },
    {
      "cell_type": "markdown",
      "source": [
        "# Question 4  \n",
        "\n",
        "Evaluate the effectiveness of targeting segment A:"
      ],
      "metadata": {
        "id": "m0dQ_GOY6gKG"
      }
    },
    {
      "cell_type": "markdown",
      "source": [
        "## Question 4(a)\n",
        "\n",
        "Calculate the total incremental conversions when you send the coupon to all\n",
        "treatment customers in Segment A. Report point estimate, standard error, and the\n",
        "95% confidence interval. (8 points)"
      ],
      "metadata": {
        "id": "lZ2yNBxH6leL"
      }
    },
    {
      "cell_type": "code",
      "source": [
        "df['segment_A'] = ((df['num_past_purch'] <= 2) & (df['channel_acq'] =='instagram')).astype('float')"
      ],
      "metadata": {
        "id": "WfpqNyC65gPA"
      },
      "execution_count": null,
      "outputs": []
    },
    {
      "cell_type": "code",
      "source": [
        "df['segment_A'].value_counts()"
      ],
      "metadata": {
        "colab": {
          "base_uri": "https://localhost:8080/"
        },
        "id": "Thy6GdWc_pkf",
        "outputId": "b06d2581-89e8-4747-95ba-fafd2ca7fe1d"
      },
      "execution_count": null,
      "outputs": [
        {
          "output_type": "execute_result",
          "data": {
            "text/plain": [
              "segment_A\n",
              "0.0    3929\n",
              "1.0    1071\n",
              "Name: count, dtype: int64"
            ]
          },
          "metadata": {},
          "execution_count": 14
        }
      ]
    },
    {
      "cell_type": "code",
      "source": [
        "segment_A_data = df[df['segment_A'] == 1]\n",
        "\n",
        "mean_trans_with_coupon_A = segment_A_data[segment_A_data['test_coupon'] == 1]['trans_after'].mean()\n",
        "\n",
        "# Calculate mean transaction after where test_coupon is 0 for Segment A customers\n",
        "mean_trans_without_coupon_A  = segment_A_data[segment_A_data['test_coupon'] == 0]['trans_after'].mean()\n",
        "\n",
        "n_with_coupon_A = len(segment_A_data[segment_A_data['test_coupon'] == 1])\n",
        "n_without_coupon_A = len(segment_A_data[segment_A_data['test_coupon'] == 0])\n",
        "\n",
        "# Calculate transaction after difference\n",
        "trans_difference_A = (mean_trans_with_coupon_A- mean_trans_without_coupon_A) * n_with_coupon_A\n",
        "\n",
        "std_dev_with_coupon_A = segment_A_data[segment_A_data['test_coupon'] == 1]['trans_after'].std()\n",
        "std_dev_without_coupon_A = segment_A_data[segment_A_data['test_coupon'] == 0]['trans_after'].std()\n",
        "\n",
        "se = np.sqrt((std_dev_with_coupon_A ** 2 / n_with_coupon_A) + (std_dev_without_coupon_A ** 2 / n_without_coupon_A)) * n_with_coupon_A\n",
        "\n",
        "CI_lower_A = trans_difference_A - 1.96 * se\n",
        "CI_upper_A = trans_difference_A + 1.96 * se\n",
        "\n",
        "\n",
        "print('Point Estimate of the Mean Difference: ', np.round(trans_difference_A, 3))\n",
        "print('Standard error: ', np.round(se, 3))\n",
        "print('95% CI: [', np.round(CI_lower_A, 3), ', ', np.round(CI_upper_A, 3), ']')"
      ],
      "metadata": {
        "colab": {
          "base_uri": "https://localhost:8080/"
        },
        "id": "THYiXba2602J",
        "outputId": "835e3965-f154-405b-b7d1-320e04dca833"
      },
      "execution_count": null,
      "outputs": [
        {
          "output_type": "stream",
          "name": "stdout",
          "text": [
            "Point Estimate of the Mean Difference:  28.915\n",
            "Standard error:  11.944\n",
            "95% CI: [ 5.506 ,  52.324 ]\n"
          ]
        }
      ]
    },
    {
      "cell_type": "markdown",
      "source": [
        "##Question 4(b)\n",
        "\n",
        " Calculate the total incremental revenue when you send the coupon to all treatment customers in Segment A. Report point estimate, standard error, and the 95% confidence interval. (8 points)"
      ],
      "metadata": {
        "id": "XHqmTjNo9eKr"
      }
    },
    {
      "cell_type": "code",
      "source": [
        "# Filter data for customers in Segment A\n",
        "segment_A_data = df[df['segment_A'] == 1]\n",
        "\n",
        "# Calculate mean revenue after where test_coupon is 1 for Segment A customers\n",
        "mean_rev_with_coupon_A = segment_A_data[segment_A_data['test_coupon'] == 1]['revenue_after'].mean()\n",
        "\n",
        "# Calculate mean revenue after where test_coupon is 0 for Segment A customers\n",
        "mean_rev_without_coupon_A  = segment_A_data[segment_A_data['test_coupon'] == 0]['revenue_after'].mean()\n",
        "\n",
        "n_with_coupon_A = len(segment_A_data[segment_A_data['test_coupon'] == 1])\n",
        "n_without_coupon_A = len(segment_A_data[segment_A_data['test_coupon'] == 0])\n",
        "\n",
        "# Calculate rev after difference\n",
        "rev_difference_A = (mean_rev_with_coupon_A- mean_rev_without_coupon_A) * n_with_coupon_A\n",
        "\n",
        "std_dev_with_coupon_A = segment_A_data[segment_A_data['test_coupon'] == 1]['revenue_after'].std()\n",
        "std_dev_without_coupon_A = segment_A_data[segment_A_data['test_coupon'] == 0]['revenue_after'].std()\n",
        "\n",
        "se = np.sqrt((std_dev_with_coupon_A ** 2 / n_with_coupon_A) + (std_dev_without_coupon_A ** 2 / n_without_coupon_A)) * n_with_coupon_A\n",
        "\n",
        "#Confidence Interval\n",
        "CI_lower_A = rev_difference_A - 1.96 * se\n",
        "CI_upper_A = rev_difference_A + 1.96 * se\n",
        "\n",
        "\n",
        "print('Point Estimate of the Mean Difference: ', np.round(rev_difference_A, 3))\n",
        "print('Standard error: ', np.round(se, 3))\n",
        "print('95% CI: [', np.round(CI_lower_A, 3), ', ', np.round(CI_upper_A, 3), ']')"
      ],
      "metadata": {
        "colab": {
          "base_uri": "https://localhost:8080/"
        },
        "id": "nrnLyywX8lOE",
        "outputId": "d1b24296-7559-4bb0-bc80-90280dfcff65"
      },
      "execution_count": null,
      "outputs": [
        {
          "output_type": "stream",
          "name": "stdout",
          "text": [
            "Point Estimate of the Mean Difference:  1114.762\n",
            "Standard error:  659.158\n",
            "95% CI: [ -177.188 ,  2406.712 ]\n"
          ]
        }
      ]
    },
    {
      "cell_type": "markdown",
      "source": [
        "##Question 4(c)\n",
        "\n",
        "Based on your calculation above, what is your assessment on the effectiveness of targeting segment A with coupons? (4 points)\n"
      ],
      "metadata": {
        "id": "KqNFMB6--KlQ"
      }
    },
    {
      "cell_type": "markdown",
      "source": [
        "## Answer 4(c)\n",
        "\n",
        "**Transaction After:**\n",
        "\n",
        "* The point estimate of the mean difference for transaction after is 28.915, indicating that sending coupons to customers in Segment A leads to an average increase of 28.915 units in transaction after.\n",
        "* The standard error is relatively small compared to the point estimate, suggesting that the estimate is quite precise.\n",
        "* The 95% confidence interval ranges from 5.506 to 52.324. Since this interval does not include zero, it indicates that the effect of sending coupons to Segment A customers on transaction after is statistically significant.\n",
        "\n",
        "**Revenue After:**\n",
        "\n",
        "* The point estimate of the mean difference for revenue after is 1114.762, indicating that sending coupons to customers in Segment A leads to an average increase of 1114.762 units in revenue after.\n",
        "* The standard error is relatively large compared to the point estimate, suggesting some uncertainty in the estimate.\n",
        "* The 95% confidence interval ranges from -177.188 to 2406.712. Since this interval includes zero, it suggests that the effect of sending coupons to Segment A customers on revenue after is not statistically significant.\n",
        "\n",
        "**Conclusion:**\n",
        "\n",
        "While sending coupons to Segment A customers appears to have a statistically significant positive effect on transaction after, the effect on revenue after is not statistically significant. Therefore, the effectiveness of targeting Segment A with coupons seems to vary depending on the outcome measure considered."
      ],
      "metadata": {
        "id": "ZLy1q0Xy-TWX"
      }
    },
    {
      "cell_type": "markdown",
      "source": [
        "# Question 5\n",
        "\n",
        "Another team member, Audrey, proposed to target a slightly different segment. She\n",
        "reasoned that the company’s core customers are usually people in their 30s-40s, who\n",
        "are more likely to use Facebook than Instagram. She then proposes to target customers\n",
        "acquired from Facebook and have made purchases on the company website twice or\n",
        "fewer prior to the experiment (hereafter Segment B).\n"
      ],
      "metadata": {
        "id": "W6_qjNqm_VrH"
      }
    },
    {
      "cell_type": "markdown",
      "source": [
        "##Question 5(a)\n",
        "\n",
        "Calculate the user-level incremental revenue when you send the coupon to\n",
        "customers in Segment B. Report point estimate, standard error, and the 95%\n",
        "confidence interval. (8 points)"
      ],
      "metadata": {
        "id": "mIVkTrzH_bDl"
      }
    },
    {
      "cell_type": "code",
      "source": [
        "df['segment_B'] = ((df['num_past_purch'] <= 2) & (df['channel_acq'] == 'Facebook')).astype('float')"
      ],
      "metadata": {
        "id": "Tj5_fsjZ-FhW"
      },
      "execution_count": null,
      "outputs": []
    },
    {
      "cell_type": "code",
      "source": [
        "df['segment_B'].value_counts()"
      ],
      "metadata": {
        "colab": {
          "base_uri": "https://localhost:8080/"
        },
        "id": "E-LnTnom_k74",
        "outputId": "469c3d72-10b7-4cd1-b496-d94be0b56b68"
      },
      "execution_count": null,
      "outputs": [
        {
          "output_type": "execute_result",
          "data": {
            "text/plain": [
              "segment_B\n",
              "0.0    4272\n",
              "1.0     728\n",
              "Name: count, dtype: int64"
            ]
          },
          "metadata": {},
          "execution_count": 18
        }
      ]
    },
    {
      "cell_type": "code",
      "source": [
        "# Filter data for customers in Segment B\n",
        "segment_B_data = df[df['segment_B'] == 1]\n",
        "\n",
        "# Calculate mean revenue where test_coupon is 1 for Segment B customers\n",
        "mean_rev_with_coupon_B = segment_B_data[segment_B_data['test_coupon'] == 1]['revenue_after'].mean()\n",
        "\n",
        "# Calculate mean revenue where test_coupon is 0 for Segment B customers\n",
        "mean_rev_without_coupon_B = segment_B_data[segment_B_data['test_coupon'] == 0]['revenue_after'].mean()\n",
        "\n",
        "# Calculate revenue difference\n",
        "rev_difference_B = mean_rev_with_coupon_B - mean_rev_without_coupon_B\n",
        "\n",
        "# Standard Error\n",
        "n_with_coupon_B = len(segment_B_data[segment_B_data['test_coupon'] == 1])\n",
        "n_without_coupon_B = len(segment_B_data[segment_B_data['test_coupon'] == 0])\n",
        "std_dev_with_coupon_B = segment_B_data[segment_B_data['test_coupon'] == 1]['revenue_after'].std()\n",
        "std_dev_without_coupon_B = segment_B_data[segment_B_data['test_coupon'] == 0]['revenue_after'].std()\n",
        "\n",
        "se = np.sqrt((std_dev_with_coupon_B ** 2 / n_with_coupon_B) + (std_dev_without_coupon_B ** 2 / n_without_coupon_B))\n",
        "\n",
        "# Confidence Interval\n",
        "CI_lower_B = rev_difference_B - 1.96 * se\n",
        "CI_upper_B = rev_difference_B + 1.96 * se\n",
        "\n",
        "print('Point Estimate of the Mean Difference: ', np.round(rev_difference_B, 3))\n",
        "print('Standard error: ', np.round(se, 3))\n",
        "print('95% CI: [', np.round(CI_lower_B, 3), ', ', np.round(CI_upper_B, 3), ']')"
      ],
      "metadata": {
        "colab": {
          "base_uri": "https://localhost:8080/"
        },
        "id": "aRRbLoG5_my3",
        "outputId": "65f8fc7a-e888-402d-e33f-5906494ec6f9"
      },
      "execution_count": null,
      "outputs": [
        {
          "output_type": "stream",
          "name": "stdout",
          "text": [
            "Point Estimate of the Mean Difference:  2.642\n",
            "Standard error:  1.313\n",
            "95% CI: [ 0.069 ,  5.216 ]\n"
          ]
        }
      ]
    },
    {
      "cell_type": "markdown",
      "source": [
        "## Question 5(b)\n",
        "\n",
        "Calculate the total incremental revenue when you send the coupon to all treatment\n",
        "customers in Segment B. Report point estimate, standard error, and the 95%\n",
        "confidence interval. (8 points)"
      ],
      "metadata": {
        "id": "CDvoktZA__aW"
      }
    },
    {
      "cell_type": "code",
      "source": [
        "n_B_segment = len(segment_B_data[segment_B_data['test_coupon'] == 1])\n",
        "\n",
        "total_incremental_revenue_B = rev_difference_B * n_B_segment\n",
        "print('Total Incremental Revenue Estimate: ', np.round(total_incremental_revenue_B, 3))"
      ],
      "metadata": {
        "colab": {
          "base_uri": "https://localhost:8080/"
        },
        "id": "w86HVzao_6hD",
        "outputId": "cefbd8b1-9119-4b54-f5b5-aa0c6ff5251b"
      },
      "execution_count": null,
      "outputs": [
        {
          "output_type": "stream",
          "name": "stdout",
          "text": [
            "Total Incremental Revenue Estimate:  961.756\n"
          ]
        }
      ]
    },
    {
      "cell_type": "code",
      "source": [
        "se = (np.sqrt(np.std(segment_B_data[segment_B_data['test_coupon'] == 1]['revenue_after'])**2/n_with_coupon_B +\n",
        "              np.std(segment_B_data[segment_B_data['test_coupon'] == 0]['revenue_after'])**2/n_with_coupon_B))\n",
        "\n",
        "tCI_lower = np.round(rev_difference_B  - 1.96*se, 3)\n",
        "tCI_upper = np.round(rev_difference_B  + 1.96*se, 3)\n",
        "\n",
        "print('Standard error: ', np.round(se, 3))\n",
        "print('95% CI: [', tCI_lower, ', ', tCI_upper, ']')"
      ],
      "metadata": {
        "colab": {
          "base_uri": "https://localhost:8080/"
        },
        "id": "u_XES2gZAPM1",
        "outputId": "7dcb74c6-9c0d-4e17-a67b-1a9ea949eece"
      },
      "execution_count": null,
      "outputs": [
        {
          "output_type": "stream",
          "name": "stdout",
          "text": [
            "Standard error:  1.311\n",
            "95% CI: [ 0.072 ,  5.212 ]\n"
          ]
        }
      ]
    },
    {
      "cell_type": "markdown",
      "source": [
        "## Question 5(c)\n",
        "\n",
        "Compare these results with your assessment of Randy’s proposal. What do you\n",
        "conclude about the relative effectiveness of targeting Segment A vs. Segment B? (4\n",
        "points)"
      ],
      "metadata": {
        "id": "0K8g-5UkCgOy"
      }
    },
    {
      "cell_type": "markdown",
      "source": [
        "## Answer 5(c)\n",
        "\n",
        "**Segment Effect:**\n",
        "\n",
        "The coefficients for segment_A and segment_B in the regression results represent the difference in revenue between customers in Segment A and Segment B, respectively, compared to customers not in those segments.\n",
        "Both coefficients are negative, indicating that customers in both Segment A and Segment B tend to have lower revenue compared to customers not in those segments.\n",
        "\n",
        "**Treatment Effect (Coupon Effect):**\n",
        "\n",
        "The coefficients for test_coupon in both segments represent the average treatment effect of sending the coupon to all customers, regardless of segment. In the provided results, both coefficients are negative, suggesting that, on average, customers who receive the coupon have a decrease in revenue compared to those who do not receive the coupon.\n",
        "Interaction Term (Test_coupon:Segment_B):\n",
        "\n",
        "The coefficient for the interaction term test_coupon:segment_B represents the additional treatment effect (or difference in treatment effect) specifically for customers in Segment B (Facebook users).\n",
        "The positive coefficient (3.154) indicates that the treatment effect of sending the coupon differs for customers in Segment B compared to those not in Segment B. In other words, Facebook users who receive the coupon tend to have an additional revenue increase compared to those who do not receive the coupon, controlling for other variables.\n",
        "\n",
        "**Comparison between Segments:**\n",
        "\n",
        "Comparing the coefficients for the interaction terms (test_coupon:segment_A and test_coupon:segment_B), we observe that the coefficient for Segment B (3.154) is larger than the coefficient for Segment A (2.756).\n",
        "This suggests that the incremental revenue increase associated with sending the coupon is larger for Segment B (Facebook users) compared to Segment A (Instagram users).\n",
        "\n",
        "In other words, Facebook users who receive the coupon exhibit a larger boost in revenue compared to Instagram users who receive the coupon.\n",
        "In summary, while both Segment A and Segment B customers tend to have lower revenue compared to customers not in those segments, Facebook users (Segment B) show a larger incremental revenue increase when they receive the coupon compared to Instagram users (Segment A). This indicates that the coupon promotion may be more effective for acquiring revenue from Facebook users than from Instagram users."
      ],
      "metadata": {
        "id": "SChDy4UTClf2"
      }
    },
    {
      "cell_type": "markdown",
      "source": [
        "# Question 6\n",
        "\n",
        "Your team presents these results to the CEO, who commented that she wanted to see\n",
        "how the proposed targeting strategies reach different demographic subgroups\n",
        "compared to a mass-targeting campaign. You are now tasked to prepare a report that\n",
        "shows the demographic reach of proposed targeting campaigns. For simplicity, I will\n",
        "ask you to focus on Randy’s strategy for the duration of this question."
      ],
      "metadata": {
        "id": "tz016Sv6Cv2l"
      }
    },
    {
      "cell_type": "markdown",
      "source": [
        "## Question 6(a)\n",
        "\n",
        "Compare the differences in gender composition in Segment A compared to all\n",
        "customers in the experiment. Include both point estimate, standard deviation, and\n",
        "4\n",
        "confidence interval. [Hint: for this question, use the combination of treatment and\n",
        "control group when constructing the target segment and total customers.] (8\n",
        "points)"
      ],
      "metadata": {
        "id": "QD54OLK0C0rm"
      }
    },
    {
      "cell_type": "code",
      "source": [
        "treat = df[df['segment_A'] == 1]['non_male'].mean()\n",
        "control = df['non_male'].mean()\n",
        "\n",
        "diff = treat - control\n",
        "\n",
        "n_treat = len(df[df['segment_A'] == 1]['non_male'])\n",
        "n_control = len(df['non_male'])\n",
        "\n",
        "se = np.sqrt((np.std(df[df['segment_A'] == 1]['non_male'])**2 / n_treat) + (np.std(df['non_male'])**2 / n_control))\n",
        "\n",
        "CI_lower = np.round((diff - 1.96 * se), 3)\n",
        "CI_upper = np.round((diff + 1.96 * se), 3)\n",
        "\n",
        "print('Difference between gender composition of Segment A, compared to all users: ', np.round(diff, 3))\n",
        "print('Standard error: ', np.round(se, 3))\n",
        "print('95% CI: [', CI_lower, ', ', CI_upper, '] \\n')"
      ],
      "metadata": {
        "colab": {
          "base_uri": "https://localhost:8080/"
        },
        "id": "Iycql4ksAT6e",
        "outputId": "2c5b80df-7d23-4973-f86a-8abb3fd0fb08"
      },
      "execution_count": null,
      "outputs": [
        {
          "output_type": "stream",
          "name": "stdout",
          "text": [
            "Difference between gender composition of Segment A, compared to all users:  0.145\n",
            "Standard error:  0.015\n",
            "95% CI: [ 0.115 ,  0.175 ] \n",
            "\n"
          ]
        }
      ]
    },
    {
      "cell_type": "markdown",
      "source": [
        "## Question 6(b)\n",
        "\n",
        "Compare the differences in income composition in Segment A compared to all\n",
        "customers in the experiment. Include both point estimate, standard deviation, and\n",
        "confidence interval. [Hint: you will need to first convert the variable into binary\n",
        "variables.] (8 points)"
      ],
      "metadata": {
        "id": "AWKh-Cp9EmPG"
      }
    },
    {
      "cell_type": "code",
      "source": [
        "df['income'] = df['income'].replace({\"high\": 1, \"low\": 0})"
      ],
      "metadata": {
        "id": "q_tDSYJyEzv0"
      },
      "execution_count": null,
      "outputs": []
    },
    {
      "cell_type": "code",
      "source": [
        "treat_income = df[df['segment_A'] == 1]['income'].mean()\n",
        "control_income = df['income'].mean()\n",
        "\n",
        "diff_income = treat_income - control_income\n",
        "\n",
        "n_treat = len(df[df['segment_A'] == 1]['income'])\n",
        "n_control = len(df['income'])\n",
        "\n",
        "se_income = np.sqrt((np.std(df[df['segment_A'] == 1]['income'])**2 / n_treat) + (np.std(df['income'])**2 / n_control))\n",
        "\n",
        "CI_lower_income = np.round((diff_income - 1.96 * se_income), 3)\n",
        "CI_upper_income = np.round((diff_income + 1.96 * se_income), 3)\n",
        "\n",
        "print('Difference between income composition of Segment A, compared to all users: ', np.round(diff_income, 3))\n",
        "print('Standard error: ', np.round(se_income, 3))\n",
        "print('95% CI: [', CI_lower_income, ', ', CI_upper_income, '] \\n')"
      ],
      "metadata": {
        "colab": {
          "base_uri": "https://localhost:8080/"
        },
        "id": "S_9JbH1pEuIp",
        "outputId": "ae4791ae-519a-428d-f197-4823b59df907"
      },
      "execution_count": null,
      "outputs": [
        {
          "output_type": "stream",
          "name": "stdout",
          "text": [
            "Difference between income composition of Segment A, compared to all users:  0.135\n",
            "Standard error:  0.01\n",
            "95% CI: [ 0.115 ,  0.154 ] \n",
            "\n"
          ]
        }
      ]
    },
    {
      "cell_type": "markdown",
      "source": [
        "## Question 6(c)\n",
        "\n",
        "Conclude if there is a statistical significant difference in gender and income\n",
        "composition in Segment A compared to all customers in the experiment. (4 points)"
      ],
      "metadata": {
        "id": "_q8rG4wqFSZA"
      }
    },
    {
      "cell_type": "markdown",
      "source": [
        "##Answer 6(c)\n",
        "\n",
        "**Gender Composition:**\n",
        "\n",
        "* The difference between the gender composition of Segment A compared to all users is 0.145.\n",
        "* The standard error associated with this difference is 0.015.\n",
        "* The 95% confidence interval for the difference in gender composition ranges from 0.115 to 0.175.\n",
        "\n",
        "**Income Composition:**\n",
        "\n",
        "* The difference between the income composition of Segment A compared to all users is 0.135.\n",
        "* The standard error associated with this difference is 0.01.\n",
        "* The 95% confidence interval for the difference in income composition ranges from 0.115 to 0.154.\n",
        "\n",
        "**Conclusion:**\n",
        "\n",
        "Both the difference in gender composition and income composition between Segment A and all users have confidence intervals that do not include zero.\n",
        "This indicates that there is a statistically significant difference between Segment A and all users in terms of both gender and income composition.\n",
        "Therefore, we can conclude that Segment A differs significantly from the overall customer population in terms of gender and income composition.\n"
      ],
      "metadata": {
        "id": "ffglMEH-FXMh"
      }
    }
  ]
}